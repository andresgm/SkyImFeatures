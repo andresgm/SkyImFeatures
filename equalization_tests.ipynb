{
 "cells": [
  {
   "cell_type": "code",
   "execution_count": 31,
   "metadata": {},
   "outputs": [],
   "source": [
    "import cv2\n",
    "import numpy\n",
    "\n",
    "filepath = 'test_img.jpg'\n",
    "img = cv2.imread(filepath)\n",
    "\n",
    "cols, rows, c = img.shape\n",
    "brightness = numpy.sum(img) / (255 * cols * rows)\n",
    "\n",
    "cv2.imshow('cosa',img)\n",
    "cv2.waitKey(0)\n",
    "cv2.destroyAllWindows()\n",
    "\n"
   ]
  },
  {
   "cell_type": "code",
   "execution_count": 32,
   "metadata": {},
   "outputs": [],
   "source": [
    "minimum_brightness = 0.66\n",
    "alpha = brightness / minimum_brightness\n",
    "bright_img = cv2.convertScaleAbs(img, alpha = alpha, beta = 255 * (1 - alpha))\n",
    "cv2.imshow('cosa',bright_img)\n",
    "cv2.waitKey(0)\n",
    "cv2.destroyAllWindows()"
   ]
  },
  {
   "cell_type": "code",
   "execution_count": 33,
   "metadata": {},
   "outputs": [],
   "source": [
    "bright_img = cv2.convertScaleAbs(img, alpha = 1, beta = 128)\n",
    "cv2.imshow('cosa',bright_img)\n",
    "cv2.waitKey(0)\n",
    "cv2.destroyAllWindows()\n"
   ]
  },
  {
   "cell_type": "code",
   "execution_count": 34,
   "metadata": {},
   "outputs": [],
   "source": [
    "bright_img = cv2.convertScaleAbs(img, alpha = 1, beta = 255 * (minimum_brightness - brightness))\n",
    "cv2.imshow('cosa',bright_img)\n",
    "cv2.waitKey(0)\n",
    "cv2.destroyAllWindows()"
   ]
  },
  {
   "cell_type": "code",
   "execution_count": 35,
   "metadata": {},
   "outputs": [
    {
     "name": "stdout",
     "output_type": "stream",
     "text": [
      "Image already bright enough\n"
     ]
    }
   ],
   "source": [
    "def imager(img):\n",
    "    ratio = brightness / minimum_brightness\n",
    "    if ratio >= 1:\n",
    "        print(\"Image already bright enough\")\n",
    "        return img\n",
    "\n",
    "    # Otherwise, adjust brightness to get the target brightness\n",
    "    return cv2.convertScaleAbs(img, alpha = 1 / ratio, beta = 0)\n",
    "\n",
    "reg_img = imager(img)\n",
    "cv2.imshow('cosa',reg_img)\n",
    "cv2.waitKey(0)\n",
    "cv2.destroyAllWindows()\n"
   ]
  }
 ],
 "metadata": {
  "kernelspec": {
   "display_name": "base",
   "language": "python",
   "name": "python3"
  },
  "language_info": {
   "codemirror_mode": {
    "name": "ipython",
    "version": 3
   },
   "file_extension": ".py",
   "mimetype": "text/x-python",
   "name": "python",
   "nbconvert_exporter": "python",
   "pygments_lexer": "ipython3",
   "version": "3.10.9"
  }
 },
 "nbformat": 4,
 "nbformat_minor": 2
}
